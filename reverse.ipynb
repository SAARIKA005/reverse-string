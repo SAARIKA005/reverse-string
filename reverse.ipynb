{
  "nbformat": 4,
  "nbformat_minor": 0,
  "metadata": {
    "colab": {
      "name": "Untitled38.ipynb",
      "provenance": []
    },
    "kernelspec": {
      "name": "python3",
      "display_name": "Python 3"
    },
    "language_info": {
      "name": "python"
    }
  },
  "cells": [
    {
      "cell_type": "code",
      "source": [
        "def reverse_string(str):  \n",
        "    str1 = \"\"   # Declaring empty string to store the reversed string  \n",
        "    for i in str:  \n",
        "        str1 = i + str1  \n",
        "    return str1    # It will return the reverse string to the caller function  \n",
        "     \n",
        "str = \"JavaTpoint\"    # Given String       \n",
        "print(\"The original string is: \",str)  \n",
        "print(\"The reverse string is\",reverse_string(str)) # Function call  \n",
        "Output:"
      ],
      "metadata": {
        "id": "_3P9LZXX-DdY"
      },
      "execution_count": null,
      "outputs": []
    }
  ]
}